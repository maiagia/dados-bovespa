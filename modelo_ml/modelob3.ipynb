{
  "cells": [
    {
      "cell_type": "markdown",
      "source": [
        "#  **Introdução**\n",
        "\n",
        "\n",
        "Este projeto tem como objetivo a construção e implementação de um modelo de machine learning para previsão de dados, utilizando o algoritmo Random Forest Regressor. O modelo é treinado a partir de um conjunto de dados contendo variáveis relevantes para a predição, garantindo um processo robusto de aprendizado e análise.\n",
        "\n",
        "O fluxo do projeto abrange todas as etapas essenciais para a criação de um modelo preditivo *eficiente*, incluindo:\n",
        "\n",
        "\n",
        "Avaliação do desempenho: São utilizadas métricas como **Erro Absoluto Médio (MAE)** e **Erro Quadrático Médio (MSE)** para validar a precisão do modelo.\n",
        "Salvamento do modelo: O modelo treinado é armazenado para possibilitar previsões futuras com novos dados.\n",
        "\n",
        "#  **Etapas do Projeto**\n",
        "\n",
        "1.   Coleta e preparação dos dados: Os dados são obtidos de um repositório online e passam por um processo de limpeza e normalização para garantir sua qualidade.\n",
        "2.   Divisão entre treino e teste: O conjunto de dados é separado para permitir a avaliação do desempenho do modelo.\n",
        "3. Treinamento do modelo: O Random Forest Regressor é treinado para aprender padrões e relações entre as variáveis preditoras e o alvo.\n",
        "4. Avaliação do desempenho: São utilizadas métricas como Erro Absoluto Médio (MAE) e Erro Quadrático Médio (MSE) para validar a precisão do modelo.\n",
        "5. Salvamento do modelo: O modelo treinado é armazenado para possibilitar previsões futuras com novos dados.\n"
      ],
      "metadata": {
        "id": "Q2k2BqQT7OGb"
      }
    },
    {
      "cell_type": "markdown",
      "metadata": {
        "id": "ovBZd05swCvX"
      },
      "source": [
        "# Notebook de Machine Learning - Previsão com Random Forest"
      ]
    },
    {
      "cell_type": "markdown",
      "source": [
        "## Passo 1: Configurações Iniciais"
      ],
      "metadata": {
        "id": "b_zM_0FF3-qH"
      }
    },
    {
      "cell_type": "markdown",
      "source": [
        "### Importar Bibliotecas\n",
        "Importamos as bibliotecas necessárias para manipulação de dados, visualização e Machine Learning."
      ],
      "metadata": {
        "id": "ANJ9iPri36AK"
      }
    },
    {
      "cell_type": "code",
      "execution_count": null,
      "metadata": {
        "id": "U64qn2n4wCvZ"
      },
      "outputs": [],
      "source": [
        "# Bibliotecas Padrão do Python\n",
        "import requests\n",
        "\n",
        "# Bibliotecas para Manipulação de Dados\n",
        "import pandas as pd\n",
        "import numpy as np\n",
        "\n",
        "# Bibliotecas para Visualização\n",
        "import matplotlib.pyplot as plt\n",
        "import seaborn as sns\n",
        "\n",
        "# Bibliotecas para Machine Learning\n",
        "from sklearn.model_selection import train_test_split\n",
        "from sklearn.preprocessing import StandardScaler\n",
        "from sklearn.ensemble import RandomForestRegressor\n",
        "from sklearn.metrics import mean_absolute_error, mean_squared_error\n",
        "\n",
        "# Biblioteca para Salvamento do Modelo\n",
        "import joblib"
      ]
    },
    {
      "cell_type": "markdown",
      "source": [
        "### Configurar exibição do pandas"
      ],
      "metadata": {
        "id": "VfswTjzn4UxD"
      }
    },
    {
      "cell_type": "code",
      "source": [
        "pd.options.display.max_columns = None\n",
        "pd.options.display.float_format = \"{:,.2f}\".format"
      ],
      "metadata": {
        "id": "qxxURa0c4at8"
      },
      "execution_count": null,
      "outputs": []
    },
    {
      "cell_type": "markdown",
      "metadata": {
        "id": "llbPCtRewCvZ"
      },
      "source": [
        "## Passo 2: Coletar os Dados\n",
        "Faz o download de um arquivo CSV de um repositório do GitHub e o lê como um DataFrame do Pandas.\n"
      ]
    },
    {
      "cell_type": "markdown",
      "source": [
        "### Download do arquivo .csv\n",
        "\n",
        "<p>Faz o download do arquivo direto do repositório</p>"
      ],
      "metadata": {
        "id": "HrZKjVNy3LoQ"
      }
    },
    {
      "cell_type": "code",
      "source": [
        "%%capture\n",
        "!wget \"https://raw.githubusercontent.com/maiagia/modelo_b3/main/arquivos/massadados_comtarget.csv\""
      ],
      "metadata": {
        "id": "0y-MbC7R3Q0b"
      },
      "execution_count": null,
      "outputs": []
    },
    {
      "cell_type": "markdown",
      "source": [
        "### Carregar dados no DataFrame"
      ],
      "metadata": {
        "id": "TEynuWvL3qWY"
      }
    },
    {
      "cell_type": "code",
      "execution_count": null,
      "metadata": {
        "id": "le6IsBmywCvZ"
      },
      "outputs": [],
      "source": [
        "# Lê o arquivo CSV baixado e armazena os dados em um DataFrame\n",
        "vBase = pd.read_csv(\"massadados_comtarget.csv\")"
      ]
    },
    {
      "cell_type": "markdown",
      "metadata": {
        "id": "G0rUeKPLwCva"
      },
      "source": [
        "## Passo 3: Explorar os Dados\n",
        "Visualizamos a estrutura e estatísticas básicas dos dados."
      ]
    },
    {
      "cell_type": "markdown",
      "source": [
        "### Visualizar base"
      ],
      "metadata": {
        "id": "AOVoiECL5EbQ"
      }
    },
    {
      "cell_type": "code",
      "source": [
        "vBase.head(4)"
      ],
      "metadata": {
        "id": "RPXjsFuM5Hu4"
      },
      "execution_count": null,
      "outputs": []
    },
    {
      "cell_type": "markdown",
      "source": [
        "### Informações"
      ],
      "metadata": {
        "id": "3BMD2vXw5Nxm"
      }
    },
    {
      "cell_type": "code",
      "source": [
        "vBase.info()"
      ],
      "metadata": {
        "id": "sifN7TnD5V2e"
      },
      "execution_count": null,
      "outputs": []
    },
    {
      "cell_type": "markdown",
      "source": [
        "### Estatística Descritiva"
      ],
      "metadata": {
        "id": "DPyGAI2b5eLy"
      }
    },
    {
      "cell_type": "code",
      "source": [
        "vBase.describe().T"
      ],
      "metadata": {
        "id": "6cNSShB_5hhS"
      },
      "execution_count": null,
      "outputs": []
    },
    {
      "cell_type": "markdown",
      "source": [
        "### Pairplot"
      ],
      "metadata": {
        "id": "cxvsaznz5sDF"
      }
    },
    {
      "cell_type": "code",
      "source": [
        "%matplotlib inline\n",
        "sns.pairplot(vBase)\n",
        "plt.show()"
      ],
      "metadata": {
        "id": "ybXU_CY25uHZ"
      },
      "execution_count": null,
      "outputs": []
    },
    {
      "cell_type": "markdown",
      "source": [
        "## Passo 4: Pré-processamento"
      ],
      "metadata": {
        "id": "0pkeVK2F7ebP"
      }
    },
    {
      "cell_type": "markdown",
      "source": [
        "### Normalização dos dado"
      ],
      "metadata": {
        "id": "sHxxRlMo7tT2"
      }
    },
    {
      "cell_type": "markdown",
      "metadata": {
        "id": "8lStWfXwwCva"
      },
      "source": [
        "## Passo 4: Separar as Variáveis para Treinamento\n",
        "Realiza o pré-processamento dos dados, incluindo a seleção de features, normalização e divisão entre conjunto de treino e teste para um modelo de machine learning."
      ]
    },
    {
      "cell_type": "code",
      "execution_count": null,
      "metadata": {
        "id": "z23vHj7kwCva"
      },
      "outputs": [],
      "source": [
        "# Seleção das features e do target\n",
        "X = df[['QTD_TEORICA', 'QTD_TEORICA_TOTAL', 'QTD_REDUTOR', 'VAL_PARTICIPACAO_ACUMULADA_SETOR']]\n",
        "y = df['VAL_PARTICIPACAO_SETOR']\n",
        "\n",
        "# Normalização das features usando StandardScaler\n",
        "X[X.columns] = StandardScaler().fit_transform(X[X.columns])\n",
        "\n",
        "# Divisão dos dados em treino (80%) e teste (20%)\n",
        "X_train, X_test, y_train, y_test = train_test_split(X, y, test_size=0.2, random_state=42)\n",
        "\n",
        "# Exibe o tamanho dos conjuntos gerados\n",
        "print(f\"Tamanho do treino: {X_train.shape}, Tamanho do teste: {X_test.shape}\")\n"
      ]
    },
    {
      "cell_type": "markdown",
      "metadata": {
        "id": "aWhyqksbwCva"
      },
      "source": [
        "## Passo 5: Treinar o Modelo\n",
        "Cria, treina e ajusta um modelo de regressão usando RandomForestRegressor, um algoritmo de aprendizado de máquina baseado em múltiplas árvores de decisão."
      ]
    },
    {
      "cell_type": "code",
      "execution_count": null,
      "metadata": {
        "id": "Tye0pOGfwCva"
      },
      "outputs": [],
      "source": [
        "# Criação do modelo RandomForestRegressor\n",
        "model = RandomForestRegressor(n_estimators=100, random_state=42)\n",
        "\n",
        "# Treinamento do modelo com os dados de treino\n",
        "model.fit(X_train, y_train)\n"
      ]
    },
    {
      "cell_type": "markdown",
      "metadata": {
        "id": "9yv35H1jwCva"
      },
      "source": [
        "## Passo 6: Avaliar o Modelo\n",
        "Avalia o desempenho do modelo treinado, gerando previsões sobre os dados de teste e calculando métricas de erro para medir sua precisão."
      ]
    },
    {
      "cell_type": "code",
      "execution_count": null,
      "metadata": {
        "id": "1Fou-WS9wCva"
      },
      "outputs": [],
      "source": [
        "# Fazer previsões no conjunto de teste\n",
        "y_pred = model.predict(X_test)\n",
        "\n",
        "# Calcular métricas de erro para avaliar o modelo\n",
        "mae = mean_absolute_error(y_test, y_pred)  # Erro absoluto médio\n",
        "mse = mean_squared_error(y_test, y_pred)  # Erro quadrático médio\n",
        "rmse = np.sqrt(mse)  # Raiz do erro quadrático médio\n",
        "\n",
        "# Exibir as métricas\n",
        "print(f\"MAE: {mae}\")\n",
        "print(f\"MSE: {mse}\")\n",
        "print(f\"RMSE: {rmse}\")\n",
        "\n",
        "# Exibir as previsões geradas\n",
        "y_pred\n"
      ]
    },
    {
      "cell_type": "markdown",
      "metadata": {
        "id": "X50fR4GbwCvb"
      },
      "source": [
        "## Passo 7: Salvar o Modelo\n",
        "Salva o modelo treinado em um arquivo para que possa ser reutilizado posteriormente sem necessidade de um novo treinamento."
      ]
    },
    {
      "cell_type": "code",
      "execution_count": null,
      "metadata": {
        "id": "li3gu-clwCvb"
      },
      "outputs": [],
      "source": [
        "# Salvar o modelo treinado em um arquivo\n",
        "joblib.dump(model, \"modelo_b3.pkl\")"
      ]
    },
    {
      "cell_type": "markdown",
      "metadata": {
        "id": "1lsHycvcwCvb"
      },
      "source": [
        "## Passo 8: Fazer uma Previsão\n",
        "Cria um conjunto de novos dados e usa o modelo treinado para fazer previsões sobre eles."
      ]
    },
    {
      "cell_type": "code",
      "execution_count": null,
      "metadata": {
        "id": "cmzRTWlrwCvb"
      },
      "outputs": [],
      "source": [
        "# # Baixar o arquivo CSV usando wget\n",
        "!wget \"https://raw.githubusercontent.com/maiagia/modelo_b3/main/arquivos/massadedados_semtarget.csv\"\n",
        "\n",
        "# # Carregar no Pandas\n",
        "novo_dado = df = pd.read_csv(\"massadedados_semtarget.csv\")\n",
        "\n",
        "# # Aplicar a mesma padronização usada no treino\n",
        "novo_dado = StandardScaler().fit_transform(novo_dado)\n",
        "\n",
        "# # Fazer previsões\n",
        "previsao = model.predict(novo_dado)\n",
        "print(f\"Previsão: {previsao}\")\n"
      ]
    },
    {
      "cell_type": "markdown",
      "source": [],
      "metadata": {
        "id": "MUE54hVOCQmE"
      }
    },
    {
      "cell_type": "code",
      "source": [
        "# Criar DataFrame com previsões\n",
        "df_previsoes = pd.DataFrame(novo_dado, columns=['QTD_TEORICA', 'QTD_TEORICA_TOTAL', 'QTD_REDUTOR', 'VAL_PARTICIPACAO_ACUMULADA_SETOR'])\n",
        "df_previsoes['Previsão'] = previsao\n",
        "\n",
        "# Exibir DataFrame com previsões\n",
        "print(\"📊 Dashboard de Previsões:\")\n",
        "display(df_previsoes)\n",
        "\n",
        "# Criar gráfico de dispersão: Valores previstos vs. QTD_TEORICA\n",
        "plt.figure(figsize=(8, 5))\n",
        "sns.scatterplot(x=df_previsoes['QTD_TEORICA'], y=df_previsoes['Previsão'], marker=\"o\", label=\"Previsto\")\n",
        "plt.xlabel(\"Quantidade Teórica\")\n",
        "plt.ylabel(\"Previsão do Modelo\")\n",
        "plt.title(\"Correlação entre Quantidade Teórica e Previsão\")\n",
        "plt.legend()\n",
        "plt.show()\n",
        "\n",
        "# Criar gráfico de linha para mostrar tendências das previsões\n",
        "plt.figure(figsize=(8, 5))\n",
        "sns.lineplot(x=df_previsoes.index, y=df_previsoes['Previsão'], marker=\"o\", label=\"Previsto\")\n",
        "plt.xlabel(\"Índice dos Dados\")\n",
        "plt.ylabel(\"Valor Previsto\")\n",
        "plt.title(\"Evolução das Previsões do Modelo\")\n",
        "plt.legend()\n",
        "plt.show()"
      ],
      "metadata": {
        "id": "3_cXbgX14ZaL"
      },
      "execution_count": null,
      "outputs": []
    },
    {
      "cell_type": "code",
      "source": [],
      "metadata": {
        "id": "NJ5tGk8nzRfs"
      },
      "execution_count": null,
      "outputs": []
    },
    {
      "cell_type": "markdown",
      "source": [
        "# **Conclusão sobre o Modelo**\n",
        "\n",
        "O modelo apresenta um **bom desempenho considerando a natureza dos dados**, que possuem uma distribuição com valores relativamente próximos.\n",
        "\n",
        "Os **resultados das métricas de erro são baixos**, com um **MAE de 0.0417**, indicando que, em média, as previsões estão muito próximas dos valores reais. Além disso, o **MSE de 0.0101 e RMSE de 0.1006** demonstram que o modelo tem uma boa capacidade de aprendizado sobre os padrões dos dados.\n",
        "\n",
        "A análise gráfica mostra que o modelo conseguiu capturar **tendências recorrentes** dentro do conjunto analisado, com previsões estáveis e coerentes com a estrutura da base. Isso reforça sua **consistência e confiabilidade para cenários com características semelhantes.**"
      ],
      "metadata": {
        "id": "gMtmOl-w7YNZ"
      }
    }
  ],
  "metadata": {
    "kernelspec": {
      "display_name": "Python 3",
      "language": "python",
      "name": "python3"
    },
    "language_info": {
      "codemirror_mode": {
        "name": "ipython",
        "version": 3
      },
      "file_extension": ".py",
      "mimetype": "text/x-python",
      "name": "python",
      "nbconvert_exporter": "python",
      "pygments_lexer": "ipython3",
      "version": "3.8.10"
    },
    "colab": {
      "provenance": []
    }
  },
  "nbformat": 4,
  "nbformat_minor": 0
}